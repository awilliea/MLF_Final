{
 "cells": [
  {
   "cell_type": "code",
   "execution_count": 4,
   "metadata": {
    "collapsed": true
   },
   "outputs": [],
   "source": [
    "import pickle\n",
    "import pandas as pd\n",
    "import numpy as np\n",
    "import datetime as dt\n",
    "from sklearn import preprocessing \n",
    "from xgboost.sklearn import XGBRegressor\n",
    "from sklearn import metrics   #Additional     scklearn functions\n",
    "from sklearn.model_selection import GridSearchCV\n",
    "import xgboost\n",
    "from lightgbm import LGBMRegressor\n",
    "from sklearn.metrics import make_scorer # define our own error function\n",
    "import time\n",
    "import warnings\n",
    "warnings.filterwarnings(\"ignore\")\n",
    "\n",
    "import matplotlib\n",
    "import matplotlib.pyplot as plt\n",
    "matplotlib.style.use('ggplot')"
   ]
  },
  {
   "cell_type": "code",
   "execution_count": 5,
   "metadata": {
    "collapsed": true
   },
   "outputs": [],
   "source": [
    "X_train_ = np.load('X_train.npz')\n",
    "X_test_ = np.load('X_test.npz')\n",
    "Y_train_ = np.load('Y_train.npz')\n",
    "\n",
    "X_train = X_train_['arr_0'] \n",
    "\n",
    "X_test = X_test_['arr_0']\n",
    "Y_train = Y_train_['arr_0']\n",
    "\n",
    "# train_pre = preprocessing.normalize(np.concatenate([X_train,X_test]))\n",
    "# X_train_pre = train_pre[:47500,:]\n",
    "# X_test_pre = train_pre[47500:,:]\n",
    "\n",
    "\n",
    "# print(train_pre.shape)"
   ]
  },
  {
   "cell_type": "code",
   "execution_count": 6,
   "metadata": {
    "collapsed": true
   },
   "outputs": [],
   "source": [
    "Y_data_p = Y_train[:,0]\n",
    "Y_data_m = Y_train[:,1]\n",
    "Y_data_a = Y_train[:,2]"
   ]
  },
  {
   "cell_type": "code",
   "execution_count": 7,
   "metadata": {},
   "outputs": [
    {
     "name": "stdout",
     "output_type": "stream",
     "text": [
      "(47500, 10000)\n",
      "(47500, 3)\n",
      "(2500, 10000)\n"
     ]
    }
   ],
   "source": [
    "print(X_train.shape)\n",
    "print(Y_train.shape)\n",
    "print(X_test.shape)"
   ]
  },
  {
   "cell_type": "markdown",
   "metadata": {},
   "source": [
    "### Origin data"
   ]
  },
  {
   "cell_type": "code",
   "execution_count": 8,
   "metadata": {
    "collapsed": true
   },
   "outputs": [],
   "source": [
    "data_origin_pre = preprocessing.normalize(np.concatenate([X_train,X_test]),axis = 0)"
   ]
  },
  {
   "cell_type": "code",
   "execution_count": 9,
   "metadata": {
    "collapsed": true
   },
   "outputs": [],
   "source": [
    "train_Xorigin_pre = data_origin_pre[:47500,:]\n",
    "test_Xorigin_pre = data_origin_pre[47500:,:]"
   ]
  },
  {
   "cell_type": "markdown",
   "metadata": {},
   "source": [
    "### Feature Selection"
   ]
  },
  {
   "cell_type": "code",
   "execution_count": 7,
   "metadata": {
    "collapsed": true
   },
   "outputs": [],
   "source": [
    "data = np.concatenate([X_train,X_test])"
   ]
  },
  {
   "cell_type": "code",
   "execution_count": 8,
   "metadata": {},
   "outputs": [
    {
     "data": {
      "text/plain": [
       "(50000, 10000)"
      ]
     },
     "execution_count": 8,
     "metadata": {},
     "output_type": "execute_result"
    }
   ],
   "source": [
    "data.shape"
   ]
  },
  {
   "cell_type": "code",
   "execution_count": 9,
   "metadata": {
    "collapsed": true
   },
   "outputs": [],
   "source": [
    "VAC = data[:,5000:]\n",
    "MSD = data[:,:5000]"
   ]
  },
  {
   "cell_type": "code",
   "execution_count": 10,
   "metadata": {
    "collapsed": true
   },
   "outputs": [],
   "source": [
    "class MSD_Line:\n",
    "    def __init__(self,MSD):\n",
    "        self.y = MSD\n",
    "        self.slope = None\n",
    "        self.bias = MSD[:,0].reshape((-1,1))\n",
    "        self.x = np.array([i for i in range(5000)]*MSD.shape[0]).reshape((MSD.shape[0],-1))\n",
    "        self.error = None\n",
    "        self.error_abs = None\n",
    "        self.error_square = None\n",
    "        \n",
    "    def get_MSDLine(self):\n",
    "        self.slope = (self.y[:,4999] - self.y[:,0])/ 5000\n",
    "        self.slope = self.slope.reshape((-1,1))\n",
    "    def get_error(self):\n",
    "        y = self.slope*self.x + self.bias\n",
    "        self.error = self.y - y\n",
    "        self.error_abs = np.abs(self.error)\n",
    "        self.error_square = np.square(self.error)"
   ]
  },
  {
   "cell_type": "code",
   "execution_count": 11,
   "metadata": {
    "collapsed": true
   },
   "outputs": [],
   "source": [
    "msd_Line = MSD_Line(MSD)\n",
    "msd_Line.get_MSDLine()\n",
    "msd_Line.get_error()\n",
    "msd_error = msd_Line.error\n",
    "msd_error_abs = msd_Line.error_abs\n",
    "msd_error_square = msd_Line.error_square"
   ]
  },
  {
   "cell_type": "code",
   "execution_count": 168,
   "metadata": {},
   "outputs": [
    {
     "data": {
      "text/plain": [
       "(50000, 5000)"
      ]
     },
     "execution_count": 168,
     "metadata": {},
     "output_type": "execute_result"
    }
   ],
   "source": [
    "msd_error.shape"
   ]
  },
  {
   "cell_type": "code",
   "execution_count": 14,
   "metadata": {
    "collapsed": true
   },
   "outputs": [],
   "source": [
    "vac_all = []\n",
    "for j in range(VAC.shape[0]):\n",
    "    vac_ways = []\n",
    "    for i in range(0,5000,100):\n",
    "        vac = VAC[j,i:i+100]\n",
    "        vac_ways.append(vac)\n",
    "    vac_all.append(vac_ways)\n",
    "vac_all = np.array(vac_all)"
   ]
  },
  {
   "cell_type": "code",
   "execution_count": 15,
   "metadata": {},
   "outputs": [
    {
     "data": {
      "text/plain": [
       "(50000, 50, 100)"
      ]
     },
     "execution_count": 15,
     "metadata": {},
     "output_type": "execute_result"
    }
   ],
   "source": [
    "vac_all.shape"
   ]
  },
  {
   "cell_type": "code",
   "execution_count": 163,
   "metadata": {
    "collapsed": true
   },
   "outputs": [],
   "source": [
    "def filter_vac(vac_all,threshold = 0.1):\n",
    "    converge_all = []\n",
    "    unders_all = []\n",
    "    mins_all = []\n",
    "    \n",
    "    # each data\n",
    "    for k,vac in enumerate(vac_all):\n",
    "        converge_vac = []\n",
    "        unders_vac = []\n",
    "        mins_vac = []\n",
    "        \n",
    "        # each volcity\n",
    "        for v,bb_ in enumerate(vac):\n",
    "            flag1 = 0\n",
    "            flag2 = 0\n",
    "            flag3 = 0\n",
    "            \n",
    "            # each time interval\n",
    "            for i in range(100):\n",
    "                \n",
    "                # cross 0\n",
    "                if (bb_[i]<0.0 and flag1 == 0):\n",
    "                    flag1 = 1\n",
    "                    unders_vac.append(i)\n",
    "                    \n",
    "                # arrive min\n",
    "                if(i != 0 and i!= 99 and bb_[i-1]<bb_[i] and bb_[i]<bb_[i+1] and flag2 == 0):\n",
    "                    flag2 = 1\n",
    "                    mins_vac.append(i)\n",
    "                    \n",
    "                # converge under 0.1\n",
    "                if(abs(bb_[i])<threshold and flag2==1):\n",
    "                    flag3 = 1\n",
    "                    converge_vac.append(i) \n",
    "                    break\n",
    "                    \n",
    "            try:\n",
    "                assert(flag1 == 1)\n",
    "            except:\n",
    "#                 print('Not under',k,v)\n",
    "                unders_vac.append(100)\n",
    "            try:\n",
    "                assert(flag2 == 1)\n",
    "            except:\n",
    "#                 print('Not min',k,v)\n",
    "                mins_vac.append(100)\n",
    "            try:\n",
    "                assert(flag3 == 1)\n",
    "            except:\n",
    "#                 print('Not converge',k,v)\n",
    "                converge_vac.append(100) \n",
    "                \n",
    "        converge_all.append(converge_vac)\n",
    "        unders_all.append(unders_vac)\n",
    "        mins_all.append(mins_vac)\n",
    "        \n",
    "    converge_all,unders_all,mins_all = np.array(converge_all),np.array(unders_all),np.array(mins_all)\n",
    "    \n",
    "    return converge_all,unders_all,mins_all"
   ]
  },
  {
   "cell_type": "code",
   "execution_count": 164,
   "metadata": {
    "collapsed": true
   },
   "outputs": [],
   "source": [
    "converge_all_vac,unders_all_vac,mins_all_vac = filter_vac(vac_all)"
   ]
  },
  {
   "cell_type": "code",
   "execution_count": 177,
   "metadata": {
    "collapsed": true
   },
   "outputs": [],
   "source": [
    "new_VAC = np.concatenate([VAC,unders_all_vac,mins_all_vac,converge_all_vac],axis = 1)"
   ]
  },
  {
   "cell_type": "code",
   "execution_count": 178,
   "metadata": {},
   "outputs": [
    {
     "data": {
      "text/plain": [
       "(50000, 5150)"
      ]
     },
     "execution_count": 178,
     "metadata": {},
     "output_type": "execute_result"
    }
   ],
   "source": [
    "new_VAC.shape"
   ]
  },
  {
   "cell_type": "code",
   "execution_count": 202,
   "metadata": {
    "collapsed": true
   },
   "outputs": [],
   "source": [
    "new_data = np.concatenate([msd_error,new_VAC],axis = 1)"
   ]
  },
  {
   "cell_type": "code",
   "execution_count": 203,
   "metadata": {},
   "outputs": [
    {
     "data": {
      "text/plain": [
       "(50000, 10150)"
      ]
     },
     "execution_count": 203,
     "metadata": {},
     "output_type": "execute_result"
    }
   ],
   "source": [
    "new_data.shape"
   ]
  },
  {
   "cell_type": "code",
   "execution_count": 204,
   "metadata": {
    "collapsed": true
   },
   "outputs": [],
   "source": [
    "new_data_pre = preprocessing.normalize(new_data,axis = 0)"
   ]
  },
  {
   "cell_type": "code",
   "execution_count": 214,
   "metadata": {
    "collapsed": true
   },
   "outputs": [],
   "source": [
    "cv_pre = new_data_pre[:47500,:]"
   ]
  },
  {
   "cell_type": "code",
   "execution_count": 210,
   "metadata": {
    "collapsed": true
   },
   "outputs": [],
   "source": [
    "test_length = 2500\n",
    "train_length = int(47500*0.8)\n",
    "train_pre =  new_data_pre[:train_length,:]\n",
    "val_pre = new_data_pre[train_length:-test_length,:]\n",
    "test_pre = new_data_pre[-test_length:,:]\n",
    "\n",
    "Y_train_p = Y_data_p[:train_length]\n",
    "Y_train_m = Y_data_m[:train_length]\n",
    "Y_train_a = Y_data_a[:train_length]\n",
    "Y_val_p = Y_data_p[train_length:]\n",
    "Y_val_m = Y_data_m[train_length:]\n",
    "Y_val_a = Y_data_m[train_length:]"
   ]
  },
  {
   "cell_type": "code",
   "execution_count": 216,
   "metadata": {
    "collapsed": true
   },
   "outputs": [],
   "source": [
    "def NAE(y_true, y_pred):\n",
    "    diff = np.abs(y_true - y_pred)\n",
    "    n_diff = diff/y_true\n",
    "    return n_diff"
   ]
  },
  {
   "cell_type": "code",
   "execution_count": 217,
   "metadata": {
    "collapsed": true
   },
   "outputs": [],
   "source": [
    "NAE_score = make_scorer(NAE, greater_is_better=False)"
   ]
  },
  {
   "cell_type": "markdown",
   "metadata": {},
   "source": [
    "* w is 300 for penetration_rate, 1 for mesh_size and 200 for alpha\n",
    "* value_1 is the penatration rate \n",
    "* value_2 is the mesh_size \n",
    "* value_3 is the alpha"
   ]
  },
  {
   "cell_type": "markdown",
   "metadata": {},
   "source": [
    "### Alpha fine tune"
   ]
  },
  {
   "cell_type": "code",
   "execution_count": 10,
   "metadata": {},
   "outputs": [],
   "source": [
    "gbm_a = LGBMRegressor(boosting_type='gbdt',\n",
    "                         objective = 'regression',\n",
    "                         metric = 'l1',\n",
    "                         verbose = 0,\n",
    "                         learning_rate = 0.005, # 可與num_iterations做等比縮放\n",
    "                         num_leaves = 35, # leave數目，通常要< 2^max_depth\n",
    "                         min_data_in_leaf = 200, # leaf內的資料數目\n",
    "                         feature_fraction=0.8, # feature使用數量\n",
    "                         bagging_fraction= 0.9,  # bagging時resample的數目\n",
    "                         bagging_freq= 8, #多久進行一次bagging\n",
    "                         lambda_l1= 0.6, # l1 懲罰係數\n",
    "                         lambda_l2= 0,\n",
    "                         max_depth = 10,\n",
    "                        num_iterations = 3000,\n",
    "                         )"
   ]
  },
  {
   "cell_type": "code",
   "execution_count": 223,
   "metadata": {
    "scrolled": false
   },
   "outputs": [
    {
     "name": "stdout",
     "output_type": "stream",
     "text": [
      "452.57876824537914\n",
      "{'mean_fit_time': array([ 869.2028986 , 1090.82451406, 1416.08023572, 1610.2939446 ,\n",
      "       2013.39825139, 2451.4418879 , 2993.97435231, 3645.72301188,\n",
      "       4204.14466214]), 'std_fit_time': array([ 21.56055578,  30.08252949,  53.26791121,  50.04603906,\n",
      "        39.61327496,  32.63182097,  82.34732854,  74.95080164,\n",
      "       181.76828266]), 'mean_score_time': array([2.12584949, 1.51142898, 2.24298196, 2.60484853, 2.64033809,\n",
      "       2.7888732 , 3.29634981, 3.84104657, 3.82908502]), 'std_score_time': array([0.24050185, 0.49726659, 0.76059525, 0.66895987, 0.61332953,\n",
      "       1.06970571, 0.23820685, 1.07555465, 0.56486188]), 'param_num_iterations': masked_array(data=[100, 200, 300, 400, 500, 600, 700, 800, 900],\n",
      "             mask=[False, False, False, False, False, False, False, False,\n",
      "                   False],\n",
      "       fill_value='?',\n",
      "            dtype=object), 'params': [{'num_iterations': 100}, {'num_iterations': 200}, {'num_iterations': 300}, {'num_iterations': 400}, {'num_iterations': 500}, {'num_iterations': 600}, {'num_iterations': 700}, {'num_iterations': 800}, {'num_iterations': 900}], 'split0_test_score': array([-0.04698114, -0.01965547, -0.01129969, -0.00951204, -0.00913483,\n",
      "       -0.00900383, -0.00893729, -0.00889358, -0.00886214]), 'split1_test_score': array([-0.04736715, -0.01981623, -0.01134754, -0.009486  , -0.00908962,\n",
      "       -0.00895429, -0.00888062, -0.00883801, -0.00880645]), 'split2_test_score': array([-0.0466911 , -0.01965665, -0.01142088, -0.00961599, -0.00922094,\n",
      "       -0.00907586, -0.00899807, -0.00895493, -0.00892407]), 'split3_test_score': array([-0.04666859, -0.01947382, -0.01128583, -0.00954219, -0.00916509,\n",
      "       -0.00902038, -0.00893426, -0.00888659, -0.00885327]), 'split4_test_score': array([-0.04725135, -0.01978436, -0.01133813, -0.00947938, -0.00907366,\n",
      "       -0.00892572, -0.00884064, -0.00879039, -0.00875142]), 'mean_test_score': array([-0.04699187, -0.01967731, -0.01133841, -0.00952712, -0.00913683,\n",
      "       -0.00899602, -0.00891818, -0.0088727 , -0.00883947]), 'std_test_score': array([2.83990408e-04, 1.20888398e-04, 4.72195105e-05, 4.96423632e-05,\n",
      "       5.30970270e-05, 5.23676285e-05, 5.37216987e-05, 5.54403221e-05,\n",
      "       5.78006059e-05]), 'rank_test_score': array([9, 8, 7, 6, 5, 4, 3, 2, 1], dtype=int32), 'split0_train_score': array([-0.04692599, -0.01951968, -0.01107095, -0.00916696, -0.00869668,\n",
      "       -0.00848321, -0.00833704, -0.00822128, -0.00812013]), 'split1_train_score': array([-0.04684249, -0.01947998, -0.01105831, -0.00916245, -0.00870399,\n",
      "       -0.00849303, -0.00834971, -0.00823638, -0.00813151]), 'split2_train_score': array([-0.04701972, -0.01953528, -0.01106694, -0.00915192, -0.00868499,\n",
      "       -0.0084735 , -0.00833165, -0.008218  , -0.00811454]), 'split3_train_score': array([-0.04695813, -0.0195037 , -0.0110422 , -0.00915416, -0.00870141,\n",
      "       -0.00849309, -0.00834796, -0.00823376, -0.00813529]), 'split4_train_score': array([-0.04687884, -0.01949611, -0.01106454, -0.00916775, -0.00870768,\n",
      "       -0.00849524, -0.00834662, -0.00823192, -0.00812635]), 'mean_train_score': array([-0.04692504, -0.01950695, -0.01106059, -0.00916065, -0.00869895,\n",
      "       -0.00848761, -0.0083426 , -0.00822827, -0.00812556]), 'std_train_score': array([6.16602471e-05, 1.90792686e-05, 1.00676917e-05, 6.51131389e-06,\n",
      "       7.84543799e-06, 8.19887610e-06, 7.01990489e-06, 7.25932016e-06,\n",
      "       7.50339214e-06])}\n",
      "{'num_iterations': 900}\n",
      "-0.008839470663778085\n"
     ]
    }
   ],
   "source": [
    "start = time.time()\n",
    "param_test1_a = {'num_iterations':[i for i in range(100,1000,100)]}\n",
    "gsearch1_a = GridSearchCV(estimator = gbm_a, \n",
    "                       param_grid = param_test1_a, scoring='neg_mean_absolute_error',cv=5,n_jobs = 6)\n",
    "gsearch1_a.fit(cv_pre,Y_data_a)\n",
    "end = time.time()\n",
    "print((end-start)/60)\n",
    "print(gsearch1_a.cv_results_)\n",
    "print(gsearch1_a.best_params_)\n",
    "print(gsearch1_a.best_score_)"
   ]
  },
  {
   "cell_type": "code",
   "execution_count": 257,
   "metadata": {
    "scrolled": true
   },
   "outputs": [
    {
     "name": "stdout",
     "output_type": "stream",
     "text": [
      "116.18145705461502\n",
      "{'mean_fit_time': array([3649.88862901]), 'std_fit_time': array([63.28939]), 'mean_score_time': array([3.17332506]), 'std_score_time': array([0.29223112]), 'param_num_iterations': masked_array(data=[900],\n",
      "             mask=[False],\n",
      "       fill_value='?',\n",
      "            dtype=object), 'params': [{'num_iterations': 900}], 'split0_test_score': array([-0.00723314]), 'split1_test_score': array([-0.00708408]), 'split2_test_score': array([-0.00709229]), 'split3_test_score': array([-0.00712336]), 'split4_test_score': array([-0.0070677]), 'mean_test_score': array([-0.00712011]), 'std_test_score': array([5.93381453e-05]), 'rank_test_score': array([1], dtype=int32), 'split0_train_score': array([-0.00652816]), 'split1_train_score': array([-0.00654503]), 'split2_train_score': array([-0.00653899]), 'split3_train_score': array([-0.006527]), 'split4_train_score': array([-0.0065512]), 'mean_train_score': array([-0.00653808]), 'std_train_score': array([9.40594227e-06])}\n",
      "{'num_iterations': 900}\n",
      "-0.007120113306835795\n"
     ]
    }
   ],
   "source": [
    "start = time.time()\n",
    "param_test1_a = {'num_iterations':[i for i in [900]]}\n",
    "gsearch1_a = GridSearchCV(estimator = gbm_a, \n",
    "                       param_grid = param_test1_a, scoring='neg_mean_absolute_error',cv=5,n_jobs = 6)\n",
    "gsearch1_a.fit(train_Xorigin_pre,Y_data_a)\n",
    "end = time.time()\n",
    "print((end-start)/60)\n",
    "print(gsearch1_a.cv_results_)\n",
    "print(gsearch1_a.best_params_)\n",
    "print(gsearch1_a.best_score_)"
   ]
  },
  {
   "cell_type": "code",
   "execution_count": 231,
   "metadata": {},
   "outputs": [
    {
     "name": "stdout",
     "output_type": "stream",
     "text": [
      "334.9988782008489\n",
      "{'mean_fit_time': array([1163.19136076,  744.98129535,  550.427948  ,  523.73808599,\n",
      "        535.92000623,  552.64672279,  808.08686204, 1186.06347785,\n",
      "       1203.37447257, 1208.31289482, 1181.21912556, 1191.92829018,\n",
      "       1164.31797724,  853.96167035,  508.88222632,  627.36306977,\n",
      "        919.56846991,  954.82521925,  918.91958904,  972.19309258,\n",
      "        930.92700019,  949.47568722,  945.79761353,  901.9609108 ]), 'std_fit_time': array([ 13.13309983, 228.03714411,  63.26363703,  20.97268285,\n",
      "        18.18733483,  22.69141113, 109.18493493, 107.35526141,\n",
      "        45.20894201,  28.8507291 ,  29.99410976,  38.08488349,\n",
      "        43.22292694, 184.45961677,  62.15673231, 180.00499379,\n",
      "        48.90482097,  23.77989689,  12.79839552,  29.67256455,\n",
      "        17.79546623,  16.12036575,  30.47328042,  30.53636031]), 'mean_score_time': array([1.59603701, 1.29577866, 0.9857367 , 1.10863256, 1.01032557,\n",
      "       0.86171646, 2.48654051, 2.46576486, 2.4492568 , 2.39883618,\n",
      "       2.14521594, 1.74418983, 2.21106172, 1.37303882, 1.13964868,\n",
      "       0.97274318, 1.90313811, 2.1335598 , 1.36673055, 1.83838148,\n",
      "       1.40778494, 1.87941613, 1.91489987, 1.35481496]), 'std_score_time': array([0.61521032, 0.53772541, 0.31653429, 0.35897879, 0.29172814,\n",
      "       0.17775827, 0.98536229, 0.37608441, 0.7890947 , 0.2139044 ,\n",
      "       0.43803271, 0.81646944, 0.51016544, 0.40409893, 0.33247932,\n",
      "       0.27154234, 0.54710864, 0.68839974, 0.11527719, 0.48109502,\n",
      "       0.09153978, 0.39727339, 0.4536748 , 0.20262812]), 'param_max_depth': masked_array(data=[6, 6, 6, 8, 8, 8, 10, 10, 10, 12, 12, 12, 14, 14, 14,\n",
      "                   16, 16, 16, 18, 18, 18, 20, 20, 20],\n",
      "             mask=[False, False, False, False, False, False, False, False,\n",
      "                   False, False, False, False, False, False, False, False,\n",
      "                   False, False, False, False, False, False, False, False],\n",
      "       fill_value='?',\n",
      "            dtype=object), 'param_num_leaves': masked_array(data=[35, 50, 75, 35, 50, 75, 35, 50, 75, 35, 50, 75, 35, 50,\n",
      "                   75, 35, 50, 75, 35, 50, 75, 35, 50, 75],\n",
      "             mask=[False, False, False, False, False, False, False, False,\n",
      "                   False, False, False, False, False, False, False, False,\n",
      "                   False, False, False, False, False, False, False, False],\n",
      "       fill_value='?',\n",
      "            dtype=object), 'params': [{'max_depth': 6, 'num_leaves': 35}, {'max_depth': 6, 'num_leaves': 50}, {'max_depth': 6, 'num_leaves': 75}, {'max_depth': 8, 'num_leaves': 35}, {'max_depth': 8, 'num_leaves': 50}, {'max_depth': 8, 'num_leaves': 75}, {'max_depth': 10, 'num_leaves': 35}, {'max_depth': 10, 'num_leaves': 50}, {'max_depth': 10, 'num_leaves': 75}, {'max_depth': 12, 'num_leaves': 35}, {'max_depth': 12, 'num_leaves': 50}, {'max_depth': 12, 'num_leaves': 75}, {'max_depth': 14, 'num_leaves': 35}, {'max_depth': 14, 'num_leaves': 50}, {'max_depth': 14, 'num_leaves': 75}, {'max_depth': 16, 'num_leaves': 35}, {'max_depth': 16, 'num_leaves': 50}, {'max_depth': 16, 'num_leaves': 75}, {'max_depth': 18, 'num_leaves': 35}, {'max_depth': 18, 'num_leaves': 50}, {'max_depth': 18, 'num_leaves': 75}, {'max_depth': 20, 'num_leaves': 35}, {'max_depth': 20, 'num_leaves': 50}, {'max_depth': 20, 'num_leaves': 75}], 'split0_test_score': array([-0.01967733, -0.0196773 , -0.0196773 , -0.01965482, -0.01965311,\n",
      "       -0.01965311, -0.01965547, -0.01965471, -0.01965471, -0.01965547,\n",
      "       -0.01965471, -0.01965471, -0.01965547, -0.01965471, -0.01965471,\n",
      "       -0.01965547, -0.01965471, -0.01965471, -0.01965547, -0.01965471,\n",
      "       -0.01965471, -0.01965547, -0.01965471, -0.01965471]), 'split1_test_score': array([-0.01984999, -0.01985322, -0.01985322, -0.01981816, -0.01980676,\n",
      "       -0.01980676, -0.01981623, -0.01980406, -0.01980406, -0.01981623,\n",
      "       -0.01980406, -0.01980406, -0.01981623, -0.01980406, -0.01980406,\n",
      "       -0.01981623, -0.01980406, -0.01980406, -0.01981623, -0.01980406,\n",
      "       -0.01980406, -0.01981623, -0.01980406, -0.01980406]), 'split2_test_score': array([-0.01968697, -0.01968806, -0.01968806, -0.01965444, -0.01964123,\n",
      "       -0.01964123, -0.01965665, -0.01964722, -0.01964722, -0.01965665,\n",
      "       -0.01964722, -0.01964722, -0.01965665, -0.01964722, -0.01964722,\n",
      "       -0.01965665, -0.01964722, -0.01964722, -0.01965665, -0.01964722,\n",
      "       -0.01964722, -0.01965665, -0.01964722, -0.01964722]), 'split3_test_score': array([-0.01949455, -0.01949455, -0.01949455, -0.01947506, -0.01946315,\n",
      "       -0.01946315, -0.01947382, -0.01946809, -0.01946809, -0.01947382,\n",
      "       -0.01946809, -0.01946809, -0.01947382, -0.01946809, -0.01946809,\n",
      "       -0.01947382, -0.01946809, -0.01946809, -0.01947382, -0.01946809,\n",
      "       -0.01946809, -0.01947382, -0.01946809, -0.01946809]), 'split4_test_score': array([-0.0198178 , -0.01981735, -0.01981735, -0.01978461, -0.01977789,\n",
      "       -0.01977789, -0.01978436, -0.01977729, -0.01977729, -0.01978436,\n",
      "       -0.01977729, -0.01977729, -0.01978436, -0.01977729, -0.01977729,\n",
      "       -0.01978436, -0.01977729, -0.01977729, -0.01978436, -0.01977729,\n",
      "       -0.01977729, -0.01978436, -0.01977729, -0.01977729]), 'mean_test_score': array([-0.01970533, -0.0197061 , -0.0197061 , -0.01967742, -0.01966843,\n",
      "       -0.01966843, -0.01967731, -0.01967027, -0.01967027, -0.01967731,\n",
      "       -0.01967027, -0.01967027, -0.01967731, -0.01967027, -0.01967027,\n",
      "       -0.01967731, -0.01967027, -0.01967027, -0.01967731, -0.01967027,\n",
      "       -0.01967027, -0.01967731, -0.01967027, -0.01967027]), 'std_test_score': array([0.0001258 , 0.00012644, 0.00012644, 0.00012107, 0.00012185,\n",
      "       0.00012185, 0.00012089, 0.00011917, 0.00011917, 0.00012089,\n",
      "       0.00011917, 0.00011917, 0.00012089, 0.00011917, 0.00011917,\n",
      "       0.00012089, 0.00011917, 0.00011917, 0.00012089, 0.00011917,\n",
      "       0.00011917, 0.00012089, 0.00011917, 0.00011917]), 'rank_test_score': array([22, 23, 23, 21,  1,  1, 15,  3,  3, 15,  3,  3, 15,  3,  3, 15,  3,\n",
      "        3, 15,  3,  3, 15,  3,  3], dtype=int32), 'split0_train_score': array([-0.01955741, -0.01955751, -0.01955751, -0.01951934, -0.01950729,\n",
      "       -0.01950729, -0.01951968, -0.01950808, -0.01950808, -0.01951968,\n",
      "       -0.01950808, -0.01950808, -0.01951968, -0.01950808, -0.01950808,\n",
      "       -0.01951968, -0.01950808, -0.01950808, -0.01951968, -0.01950808,\n",
      "       -0.01950808, -0.01951968, -0.01950808, -0.01950808]), 'split1_train_score': array([-0.01952546, -0.019525  , -0.019525  , -0.01948024, -0.0194653 ,\n",
      "       -0.0194653 , -0.01947998, -0.01946514, -0.01946514, -0.01947998,\n",
      "       -0.01946514, -0.01946514, -0.01947998, -0.01946514, -0.01946514,\n",
      "       -0.01947998, -0.01946514, -0.01946514, -0.01947998, -0.01946514,\n",
      "       -0.01946514, -0.01947998, -0.01946514, -0.01946514]), 'split2_train_score': array([-0.01957151, -0.0195724 , -0.0195724 , -0.01953331, -0.01952115,\n",
      "       -0.01952115, -0.01953528, -0.01952037, -0.01952037, -0.01953528,\n",
      "       -0.01952037, -0.01952037, -0.01953528, -0.01952037, -0.01952037,\n",
      "       -0.01953528, -0.01952037, -0.01952037, -0.01953528, -0.01952037,\n",
      "       -0.01952037, -0.01953528, -0.01952037, -0.01952037]), 'split3_train_score': array([-0.01954313, -0.01954313, -0.01954313, -0.01950383, -0.01948499,\n",
      "       -0.01948499, -0.0195037 , -0.01948585, -0.01948585, -0.0195037 ,\n",
      "       -0.01948585, -0.01948585, -0.0195037 , -0.01948585, -0.01948585,\n",
      "       -0.0195037 , -0.01948585, -0.01948585, -0.0195037 , -0.01948585,\n",
      "       -0.01948585, -0.0195037 , -0.01948585, -0.01948585]), 'split4_train_score': array([-0.01953543, -0.01953558, -0.01953558, -0.01949639, -0.01948271,\n",
      "       -0.01948271, -0.01949611, -0.01948451, -0.01948451, -0.01949611,\n",
      "       -0.01948451, -0.01948451, -0.01949611, -0.01948451, -0.01948451,\n",
      "       -0.01949611, -0.01948451, -0.01948451, -0.01949611, -0.01948451,\n",
      "       -0.01948451, -0.01949611, -0.01948451, -0.01948451]), 'mean_train_score': array([-0.01954659, -0.01954672, -0.01954672, -0.01950662, -0.01949229,\n",
      "       -0.01949229, -0.01950695, -0.01949279, -0.01949279, -0.01950695,\n",
      "       -0.01949279, -0.01949279, -0.01950695, -0.01949279, -0.01949279,\n",
      "       -0.01950695, -0.01949279, -0.01949279, -0.01950695, -0.01949279,\n",
      "       -0.01949279, -0.01950695, -0.01949279, -0.01949279]), 'std_train_score': array([1.62540561e-05, 1.66394861e-05, 1.66394861e-05, 1.83420745e-05,\n",
      "       1.96555226e-05, 1.96555226e-05, 1.90792686e-05, 1.93681830e-05,\n",
      "       1.93681830e-05, 1.90792686e-05, 1.93681830e-05, 1.93681830e-05,\n",
      "       1.90792686e-05, 1.93681830e-05, 1.93681830e-05, 1.90792686e-05,\n",
      "       1.93681830e-05, 1.93681830e-05, 1.90792686e-05, 1.93681830e-05,\n",
      "       1.93681830e-05, 1.90792686e-05, 1.93681830e-05, 1.93681830e-05])}\n",
      "{'max_depth': 8, 'num_leaves': 50}\n",
      "-0.019668426721410566\n"
     ]
    }
   ],
   "source": [
    "# start = time.time()\n",
    "# param_test2_a = {'max_depth':[i for i in range(6,21,2)],'num_leaves':[35,50,75]}\n",
    "# gsearch2_a = GridSearchCV(estimator = gbm_a,param_grid = param_test2_a, \n",
    "#                           scoring='neg_mean_absolute_error', cv=5, n_jobs = 6)\n",
    "# gsearch2_a.fit(cv_pre,Y_data_a)\n",
    "# end = time.time()\n",
    "# gsearch2_a.cv_results_, gsearch2_a.best_params_, gsearch2_a.best_score_\n",
    "print((end-start)/60)\n",
    "print(gsearch2_a.cv_results_)\n",
    "print(gsearch2_a.best_params_)\n",
    "print(gsearch2_a.best_score_)"
   ]
  },
  {
   "cell_type": "code",
   "execution_count": null,
   "metadata": {
    "collapsed": true
   },
   "outputs": [],
   "source": [
    "gbm_a.fit(train_Xorigin_pre,Y_data_a)\n",
    "prediction_a = gbm_a.predict(test_Xorigin_pre)"
   ]
  },
  {
   "cell_type": "markdown",
   "metadata": {},
   "source": [
    "### Mesh_size fine tune"
   ]
  },
  {
   "cell_type": "code",
   "execution_count": 11,
   "metadata": {},
   "outputs": [],
   "source": [
    "gbm_m = LGBMRegressor(boosting_type='gbdt',\n",
    "                         objective = 'regression',\n",
    "                         metric = 'l1',\n",
    "                         verbose = 0,\n",
    "                         learning_rate = 0.005, # 可與num_iterations做等比縮放\n",
    "                         num_leaves = 35, # leave數目，通常要< 2^max_depth\n",
    "                         min_data_in_leaf = 200, # leaf內的資料數目\n",
    "                         feature_fraction=0.8, # feature使用數量\n",
    "                         bagging_fraction= 0.9,  # bagging時resample的數目\n",
    "                         bagging_freq= 8, #多久進行一次bagging\n",
    "                         lambda_l1= 0.6, # l1 懲罰係數\n",
    "                         lambda_l2= 0,\n",
    "                         max_depth = 10,\n",
    "                         num_iterations = 3000,\n",
    "                         )"
   ]
  },
  {
   "cell_type": "code",
   "execution_count": 244,
   "metadata": {},
   "outputs": [
    {
     "name": "stdout",
     "output_type": "stream",
     "text": [
      "186.44594598611195\n",
      "{'mean_fit_time': array([5018.12359314]), 'std_fit_time': array([27.60263105]), 'mean_score_time': array([3.34723992]), 'std_score_time': array([0.37789898]), 'param_num_iterations': masked_array(data=[900],\n",
      "             mask=[False],\n",
      "       fill_value='?',\n",
      "            dtype=object), 'params': [{'num_iterations': 900}], 'split0_test_score': array([-27.13142174]), 'split1_test_score': array([-27.3071136]), 'split2_test_score': array([-27.19054919]), 'split3_test_score': array([-26.86024882]), 'split4_test_score': array([-27.69625661]), 'mean_test_score': array([-27.23711799]), 'std_test_score': array([0.27242554]), 'rank_test_score': array([1], dtype=int32), 'split0_train_score': array([-24.56256406]), 'split1_train_score': array([-24.5278059]), 'split2_train_score': array([-24.57935206]), 'split3_train_score': array([-24.65706878]), 'split4_train_score': array([-24.48692304]), 'mean_train_score': array([-24.56274277]), 'std_train_score': array([0.05681991])}\n",
      "{'num_iterations': 900}\n",
      "-27.23711799367009\n"
     ]
    }
   ],
   "source": [
    "start = time.time()\n",
    "param_test1_m = {'num_iterations':[i for i in [900]]}\n",
    "gsearch1_m = GridSearchCV(estimator = gbm_m, \n",
    "                       param_grid = param_test1_m, scoring='neg_mean_absolute_error',cv=5,n_jobs = 8)\n",
    "gsearch1_m.fit(cv_pre,Y_data_m)\n",
    "end = time.time()\n",
    "gsearch1_m.cv_results_, gsearch1_m.best_params_, gsearch1_m.best_score_\n",
    "print((end-start)/60)\n",
    "print(gsearch1_m.cv_results_)\n",
    "print(gsearch1_m.best_params_)\n",
    "print(gsearch1_m.best_score_)"
   ]
  },
  {
   "cell_type": "code",
   "execution_count": 255,
   "metadata": {},
   "outputs": [
    {
     "name": "stdout",
     "output_type": "stream",
     "text": [
      "116.18145705461502\n",
      "{'mean_fit_time': array([4735.14412012]), 'std_fit_time': array([135.54886165]), 'mean_score_time': array([2.72758183]), 'std_score_time': array([0.20255594]), 'param_num_iterations': masked_array(data=[900],\n",
      "             mask=[False],\n",
      "       fill_value='?',\n",
      "            dtype=object), 'params': [{'num_iterations': 900}], 'split0_test_score': array([-20.17050263]), 'split1_test_score': array([-20.30441569]), 'split2_test_score': array([-20.18485149]), 'split3_test_score': array([-20.02469643]), 'split4_test_score': array([-20.36514057]), 'mean_test_score': array([-20.20992136]), 'std_test_score': array([0.11790911]), 'rank_test_score': array([1], dtype=int32), 'split0_train_score': array([-18.02923725]), 'split1_train_score': array([-18.06056093]), 'split2_train_score': array([-18.01411148]), 'split3_train_score': array([-18.09564756]), 'split4_train_score': array([-18.07075045]), 'mean_train_score': array([-18.05406154]), 'std_train_score': array([0.0291973])}\n",
      "{'num_iterations': 900}\n",
      "-20.20992136242605\n"
     ]
    }
   ],
   "source": [
    "start = time.time()\n",
    "param_test1_m = {'num_iterations':[i for i in [900]]}\n",
    "gsearch1_m = GridSearchCV(estimator = gbm_m, \n",
    "                       param_grid = param_test1_m, scoring='neg_mean_absolute_error',cv=5,n_jobs = 8)\n",
    "gsearch1_m.fit(train_Xorigin_pre,Y_data_m)\n",
    "end = time.time()\n",
    "gsearch1_m.cv_results_, gsearch1_m.best_params_, gsearch1_m.best_score_\n",
    "print((end-start)/60)\n",
    "print(gsearch1_m.cv_results_)\n",
    "print(gsearch1_m.best_params_)\n",
    "print(gsearch1_m.best_score_)"
   ]
  },
  {
   "cell_type": "code",
   "execution_count": null,
   "metadata": {
    "collapsed": true
   },
   "outputs": [],
   "source": [
    "param_test2_m = {'max_depth':[i for i in range(5,21,5)], 'min_samples_split':[i for i in range(20,1001,100)]}\n",
    "gsearch2_m = GridSearchCV(estimator = LGBMRegressor(learning_rate=0.1, n_estimators=900, min_samples_leaf=20, \n",
    "      max_features='sqrt', subsample=0.8, random_state=10), \n",
    "   param_grid = param_test2_m, scoring='neg_mean_absolute_error', cv=5, n_jobs = 6)\n",
    "gsearch2_m.fit(train_Xorigin_pre,Y_data_m)\n",
    "gsearch2_m.cv_results_, gsearch2_m.best_params_, gsearch2_m.best_score_"
   ]
  },
  {
   "cell_type": "code",
   "execution_count": null,
   "metadata": {
    "collapsed": true
   },
   "outputs": [],
   "source": [
    "gbm_m.fit(train_Xorigin_pre,Y_data_m)\n",
    "prediction_m = gbm_m.predict(test_Xorigin_pre)"
   ]
  },
  {
   "cell_type": "markdown",
   "metadata": {},
   "source": [
    "### Penetration_rate fine tune"
   ]
  },
  {
   "cell_type": "code",
   "execution_count": 12,
   "metadata": {
    "collapsed": true
   },
   "outputs": [],
   "source": [
    "gbm_p = LGBMRegressor(boosting_type='gbdt',\n",
    "                         objective = 'regression',\n",
    "                         metric = 'l1',\n",
    "                         verbose = 0,\n",
    "                         learning_rate = 0.005, # 可與num_iterations做等比縮放\n",
    "                         num_leaves = 35, # leave數目，通常要< 2^max_depth\n",
    "                         min_data_in_leaf = 200, # leaf內的資料數目\n",
    "                         feature_fraction=0.8, # feature使用數量\n",
    "                         bagging_fraction= 0.9,  # bagging時resample的數目\n",
    "                         bagging_freq= 8, #多久進行一次bagging\n",
    "                         lambda_l1= 0.6, # l1 懲罰係數\n",
    "                         lambda_l2= 0,\n",
    "                         max_depth = 10,\n",
    "                          num_iterations = 3000,\n",
    "                         )"
   ]
  },
  {
   "cell_type": "code",
   "execution_count": null,
   "metadata": {
    "collapsed": true
   },
   "outputs": [],
   "source": [
    "# for origin data\n",
    "start = time.time()\n",
    "param_test1_p = {'num_iterations':[i for i in [1500]]}\n",
    "gsearch1_p = GridSearchCV(estimator = gbm_p,\n",
    "                       param_grid = param_test1_p, scoring='neg_mean_absolute_error',cv=3,n_jobs = 8)\n",
    "gsearch1_p.fit(train_Xorigin_pre,Y_data_p)\n",
    "end = time.time()\n",
    "print((end-start)/60/60)\n",
    "gsearch1_p.cv_results_, gsearch1_p.best_params_, gsearch1_p.best_score_"
   ]
  },
  {
   "cell_type": "code",
   "execution_count": 270,
   "metadata": {},
   "outputs": [
    {
     "name": "stdout",
     "output_type": "stream",
     "text": [
      "8.518781208528413\n"
     ]
    }
   ],
   "source": [
    "print((end-start)/60/60)"
   ]
  },
  {
   "cell_type": "code",
   "execution_count": 271,
   "metadata": {},
   "outputs": [
    {
     "data": {
      "text/plain": [
       "({'mean_fit_time': array([24449.36764757]),\n",
       "  'std_fit_time': array([448.28178627]),\n",
       "  'mean_score_time': array([24.8464818]),\n",
       "  'std_score_time': array([0.56513128]),\n",
       "  'param_num_iterations': masked_array(data=[9000],\n",
       "               mask=[False],\n",
       "         fill_value='?',\n",
       "              dtype=object),\n",
       "  'params': [{'num_iterations': 9000}],\n",
       "  'split0_test_score': array([-0.09841822]),\n",
       "  'split1_test_score': array([-0.09929468]),\n",
       "  'split2_test_score': array([-0.09816657]),\n",
       "  'mean_test_score': array([-0.09862649]),\n",
       "  'std_test_score': array([0.00048352]),\n",
       "  'rank_test_score': array([1], dtype=int32),\n",
       "  'split0_train_score': array([-0.08682431]),\n",
       "  'split1_train_score': array([-0.08592798]),\n",
       "  'split2_train_score': array([-0.08670103]),\n",
       "  'mean_train_score': array([-0.08648444]),\n",
       "  'std_train_score': array([0.00039668])},\n",
       " {'num_iterations': 9000},\n",
       " -0.09862648543267052)"
      ]
     },
     "execution_count": 271,
     "metadata": {},
     "output_type": "execute_result"
    }
   ],
   "source": [
    "gsearch1_p.cv_results_, gsearch1_p.best_params_, gsearch1_p.best_score_"
   ]
  },
  {
   "cell_type": "code",
   "execution_count": null,
   "metadata": {
    "collapsed": true
   },
   "outputs": [],
   "source": [
    "gbm_p.fit(train_Xorigin_pre,Y_data_p)\n",
    "prediction_p = gbm_p.predict(test_Xorigin_pre)"
   ]
  },
  {
   "cell_type": "markdown",
   "metadata": {},
   "source": [
    "### Prediction"
   ]
  },
  {
   "cell_type": "code",
   "execution_count": null,
   "metadata": {
    "collapsed": true
   },
   "outputs": [],
   "source": [
    "def output(outputfile,pre_a,pre_m,pre_p):\n",
    "    df = pd.DataFrame(np.concatenate([pre_p.reshape((-1,1)),pre_m.reshape((-1,1)),pre_a.reshape((-1,1))],axis=1))\n",
    "    df.to_csv(outputfile,index=False,header=False)"
   ]
  },
  {
   "cell_type": "code",
   "execution_count": null,
   "metadata": {
    "collapsed": true
   },
   "outputs": [],
   "source": [
    "output('lightgbm_3000_005.csv',prediction_a,prediction_m,prediction_p)"
   ]
  },
  {
   "cell_type": "code",
   "execution_count": null,
   "metadata": {
    "collapsed": true
   },
   "outputs": [],
   "source": []
  }
 ],
 "metadata": {
  "kernelspec": {
   "display_name": "Python 3",
   "language": "python",
   "name": "python3"
  },
  "language_info": {
   "codemirror_mode": {
    "name": "ipython",
    "version": 3
   },
   "file_extension": ".py",
   "mimetype": "text/x-python",
   "name": "python",
   "nbconvert_exporter": "python",
   "pygments_lexer": "ipython3",
   "version": "3.6.8"
  }
 },
 "nbformat": 4,
 "nbformat_minor": 2
}
